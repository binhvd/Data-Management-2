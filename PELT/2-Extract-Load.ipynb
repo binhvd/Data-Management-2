{
  "nbformat": 4,
  "nbformat_minor": 0,
  "metadata": {
    "colab": {
      "provenance": [],
      "authorship_tag": "ABX9TyNYtwuoVpqg1hD2Gy2kKWn7",
      "include_colab_link": true
    },
    "kernelspec": {
      "name": "python3",
      "display_name": "Python 3"
    },
    "language_info": {
      "name": "python"
    }
  },
  "cells": [
    {
      "cell_type": "markdown",
      "metadata": {
        "id": "view-in-github",
        "colab_type": "text"
      },
      "source": [
        "<a href=\"https://colab.research.google.com/github/binhvd/Data-Management-2/blob/main/PELT/2-Extract-Load.ipynb\" target=\"_parent\"><img src=\"https://colab.research.google.com/assets/colab-badge.svg\" alt=\"Open In Colab\"/></a>"
      ]
    },
    {
      "cell_type": "markdown",
      "source": [
        "# Extract (Read) from different sources\n",
        "**\"from...\"** functions extract a table from a file-like source or database\n",
        "\n",
        "**\"to...\"** function load data from a table into a file-like source or database"
      ],
      "metadata": {
        "id": "8nOKXRdqz4fD"
      }
    },
    {
      "cell_type": "code",
      "source": [
        "\"\"\"\n",
        "@author: ashish\n",
        "\"\"\"\n",
        "\n",
        "# petl is a framework with the help of which we can create ETL job\n",
        "# Documentation Link: https://petl.readthedocs.io/en/stable/intro.html#\n",
        "\n",
        "# Command to install the petl package : pip install petl\n",
        "# Demo job to demonstrate an ETL workflow with the help of petl\n",
        "!pip install petl\n",
        "!pip install pymysql"
      ],
      "metadata": {
        "colab": {
          "base_uri": "https://localhost:8080/"
        },
        "id": "qXM30vyzM71m",
        "outputId": "81dc88b4-6f57-422a-839b-360d4a2a1ae5"
      },
      "execution_count": 75,
      "outputs": [
        {
          "output_type": "stream",
          "name": "stdout",
          "text": [
            "Looking in indexes: https://pypi.org/simple, https://us-python.pkg.dev/colab-wheels/public/simple/\n",
            "Requirement already satisfied: petl in /usr/local/lib/python3.7/dist-packages (1.7.11)\n",
            "Looking in indexes: https://pypi.org/simple, https://us-python.pkg.dev/colab-wheels/public/simple/\n",
            "Collecting pymysql\n",
            "  Downloading PyMySQL-1.0.2-py3-none-any.whl (43 kB)\n",
            "\u001b[K     |████████████████████████████████| 43 kB 1.3 MB/s \n",
            "\u001b[?25hInstalling collected packages: pymysql\n",
            "Successfully installed pymysql-1.0.2\n"
          ]
        }
      ]
    },
    {
      "cell_type": "code",
      "execution_count": 51,
      "metadata": {
        "colab": {
          "base_uri": "https://localhost:8080/"
        },
        "id": "Qqf5HNcCAL5h",
        "outputId": "7e52918f-0343-4031-bed6-3fa571178bb9"
      },
      "outputs": [
        {
          "output_type": "execute_result",
          "data": {
            "text/plain": [
              "+----+-----+\n",
              "| f0 | f1  |\n",
              "+====+=====+\n",
              "|  0 | 'a' |\n",
              "+----+-----+\n",
              "|  1 | 'b' |\n",
              "+----+-----+\n",
              "|  2 | 'c' |\n",
              "+----+-----+"
            ]
          },
          "metadata": {},
          "execution_count": 51
        }
      ],
      "source": [
        "import petl as etl\n",
        "\n",
        "# Sequence of Columns as a table\n",
        "cols = [[0, 1, 2], ['a', 'b', 'c']]\n",
        "\n",
        "table = etl.fromcolumns(cols)\n",
        "table.look()"
      ]
    },
    {
      "cell_type": "markdown",
      "source": [
        "# Delimited Files"
      ],
      "metadata": {
        "id": "ZiV5JGog0eSa"
      }
    },
    {
      "cell_type": "code",
      "source": [
        "import csv\n",
        "\n",
        "# Setup a csv file to demonstrate with\n",
        "table1 = [['foo','bar'],\n",
        "          ['a', 1],\n",
        "          ['b', 2],\n",
        "          ['c', 2]]\n",
        "\n",
        "with open('example1.csv', 'w') as f:\n",
        "    writer = csv.writer(f)\n",
        "    writer.writerows(table1)"
      ],
      "metadata": {
        "id": "y1vyH0NHK47E"
      },
      "execution_count": 52,
      "outputs": []
    },
    {
      "cell_type": "code",
      "source": [
        "# Extract values from CSV File   \n",
        "# IMPORTANT: By default all values are considered as string and if required will have to convert numeric values using convert()\n",
        "    \n",
        "table2 = etl.fromcsv('example1.csv')\n",
        "table2.look()"
      ],
      "metadata": {
        "colab": {
          "base_uri": "https://localhost:8080/"
        },
        "id": "KTyymgufUfeR",
        "outputId": "2a81fe65-6dfc-42c0-e0b2-c9288c8dfdf6"
      },
      "execution_count": 53,
      "outputs": [
        {
          "output_type": "execute_result",
          "data": {
            "text/plain": [
              "+-----+-----+\n",
              "| foo | bar |\n",
              "+=====+=====+\n",
              "| 'a' | '1' |\n",
              "+-----+-----+\n",
              "| 'b' | '2' |\n",
              "+-----+-----+\n",
              "| 'c' | '2' |\n",
              "+-----+-----+"
            ]
          },
          "metadata": {},
          "execution_count": 53
        }
      ]
    },
    {
      "cell_type": "code",
      "source": [
        "# Load values to CSV File\n",
        "etl.tocsv(table1, 'example2.csv')\n",
        "\n",
        "# IMPORTANT: File already exist at the given location, it will be overwritten\n",
        "\n",
        "# Result of above steps\n",
        "print(open('example2.csv').read())"
      ],
      "metadata": {
        "colab": {
          "base_uri": "https://localhost:8080/"
        },
        "id": "B1ovjOxIVBk7",
        "outputId": "e7eb664c-262c-4687-976e-2f3322ccfd0d"
      },
      "execution_count": 54,
      "outputs": [
        {
          "output_type": "stream",
          "name": "stdout",
          "text": [
            "foo,bar\n",
            "a,1\n",
            "b,2\n",
            "c,2\n",
            "\n"
          ]
        }
      ]
    },
    {
      "cell_type": "markdown",
      "source": [
        "# Pickle Files"
      ],
      "metadata": {
        "id": "QxQcZVgM07Mq"
      }
    },
    {
      "cell_type": "code",
      "source": [
        "import pickle\n",
        "\n",
        "with open('example.p', 'wb') as f:\n",
        "    pickle.dump(['foo','bar'], f)\n",
        "    pickle.dump(['a', 1], f)\n",
        "    pickle.dump(['b', 2], f)\n",
        "    pickle.dump(['c', 3], f)"
      ],
      "metadata": {
        "id": "dLCR9t3CVHII"
      },
      "execution_count": 55,
      "outputs": []
    },
    {
      "cell_type": "code",
      "source": [
        "# Extraction from Pickle using frompickle()\n",
        "table2 = etl.frompickle('example.p')\n",
        "table2.look()"
      ],
      "metadata": {
        "colab": {
          "base_uri": "https://localhost:8080/"
        },
        "id": "P_gXv7IfAQrD",
        "outputId": "0fbb0fb7-ac23-492c-d485-06d8b870b899"
      },
      "execution_count": 56,
      "outputs": [
        {
          "output_type": "execute_result",
          "data": {
            "text/plain": [
              "+-----+-----+\n",
              "| foo | bar |\n",
              "+=====+=====+\n",
              "| 'a' |   1 |\n",
              "+-----+-----+\n",
              "| 'b' |   2 |\n",
              "+-----+-----+\n",
              "| 'c' |   3 |\n",
              "+-----+-----+"
            ]
          },
          "metadata": {},
          "execution_count": 56
        }
      ]
    },
    {
      "cell_type": "markdown",
      "source": [
        "# Text Files"
      ],
      "metadata": {
        "id": "X2PL8n0uWQBi"
      }
    },
    {
      "cell_type": "code",
      "source": [
        "# Sample text file\n",
        "text = 'a,1\\nb,21\\nc,2\\n'\n",
        "\n",
        "with open('example.txt', 'w') as f:\n",
        "    f.write(text)"
      ],
      "metadata": {
        "id": "OSpLxiwNAWDy"
      },
      "execution_count": 57,
      "outputs": []
    },
    {
      "cell_type": "code",
      "source": [
        "# Extraction from Text File\n",
        "table1 = etl.fromtext('example.txt')\n",
        "table1.look()"
      ],
      "metadata": {
        "colab": {
          "base_uri": "https://localhost:8080/"
        },
        "id": "R9jZTGKfWJ6g",
        "outputId": "67c7310c-4113-45ce-ef47-d240f4e5ba0f"
      },
      "execution_count": 58,
      "outputs": [
        {
          "output_type": "execute_result",
          "data": {
            "text/plain": [
              "+--------+\n",
              "| lines  |\n",
              "+========+\n",
              "| 'a,1'  |\n",
              "+--------+\n",
              "| 'b,21' |\n",
              "+--------+\n",
              "| 'c,2'  |\n",
              "+--------+"
            ]
          },
          "metadata": {},
          "execution_count": 58
        }
      ]
    },
    {
      "cell_type": "code",
      "source": [
        "# Split the contents in two columns\n",
        "table2 = table1.capture('lines', '(\\w+),(\\d+)', ['foo','bar'])\n",
        "table2.look()"
      ],
      "metadata": {
        "colab": {
          "base_uri": "https://localhost:8080/"
        },
        "id": "9_X0caMi1arN",
        "outputId": "d4081138-2325-4f83-fbb5-1a232edc7b5f"
      },
      "execution_count": 59,
      "outputs": [
        {
          "output_type": "execute_result",
          "data": {
            "text/plain": [
              "+-----+------+\n",
              "| foo | bar  |\n",
              "+=====+======+\n",
              "| 'a' | '1'  |\n",
              "+-----+------+\n",
              "| 'b' | '21' |\n",
              "+-----+------+\n",
              "| 'c' | '2'  |\n",
              "+-----+------+"
            ]
          },
          "metadata": {},
          "execution_count": 59
        }
      ]
    },
    {
      "cell_type": "markdown",
      "source": [
        "Load into the text file"
      ],
      "metadata": {
        "id": "LLs8fXHd1qgl"
      }
    },
    {
      "cell_type": "code",
      "source": [
        "table1 = [['foo','bar'],\n",
        "          ['a', 1],\n",
        "          ['b', 2],\n",
        "          ['c', 3]]\n",
        "\n",
        "prologue = '''{| class=\"wikitable\"\n",
        "|-\n",
        "! foo\n",
        "! bar\n",
        "'''\n",
        "\n",
        "template = '''|-\n",
        "| {foo}\n",
        "| {bar}\n",
        "'''\n",
        "# IMPORTANT : Template will be used to format each row \n",
        "\n",
        "epilogue = '|}'\n",
        "\n",
        "etl.totext(table1, 'example.txt', template=template,\n",
        "           prologue=prologue, epilogue=epilogue)\n",
        "\n",
        "# Result\n",
        "print(open('example.txt').read())"
      ],
      "metadata": {
        "colab": {
          "base_uri": "https://localhost:8080/"
        },
        "id": "mIDG1Xh7WWKJ",
        "outputId": "091f8412-c72f-4bcf-d69e-9f1675cebcdf"
      },
      "execution_count": 60,
      "outputs": [
        {
          "output_type": "stream",
          "name": "stdout",
          "text": [
            "{| class=\"wikitable\"\n",
            "|-\n",
            "! foo\n",
            "! bar\n",
            "|-\n",
            "| a\n",
            "| 1\n",
            "|-\n",
            "| b\n",
            "| 2\n",
            "|-\n",
            "| c\n",
            "| 3\n",
            "|}\n"
          ]
        }
      ]
    },
    {
      "cell_type": "markdown",
      "source": [
        "# XML Files"
      ],
      "metadata": {
        "id": "3Mpud_NSMgFr"
      }
    },
    {
      "cell_type": "code",
      "source": [
        "# setup a file to demonstrate with petl\n",
        "d = '''<table>\n",
        "     <tr>\n",
        "         <td>foo</td><td>bar</td>\n",
        "     </tr>\n",
        "     <tr>\n",
        "         <td>a</td><td>1</td>\n",
        "     </tr>\n",
        "     <tr>\n",
        "         <td>b</td><td>2</td>\n",
        "     </tr>\n",
        "     <tr>\n",
        "         <td>c</td><td>2</td>\n",
        "     </tr>\n",
        " </table>'''\n",
        "\n",
        "with open('example1.xml', 'w') as f:\n",
        "     f.write(d)\n",
        "\n",
        "# Extraction from a XML File\n",
        "table1 = etl.fromxml('example1.xml', 'tr', 'td')\n",
        "table1.look()"
      ],
      "metadata": {
        "colab": {
          "base_uri": "https://localhost:8080/"
        },
        "id": "l4M3lnAAAa1M",
        "outputId": "72be78be-7889-45c9-b18d-57ee19ccd017"
      },
      "execution_count": 66,
      "outputs": [
        {
          "output_type": "execute_result",
          "data": {
            "text/plain": [
              "+-----+-----+\n",
              "| foo | bar |\n",
              "+=====+=====+\n",
              "| 'a' | '1' |\n",
              "+-----+-----+\n",
              "| 'b' | '2' |\n",
              "+-----+-----+\n",
              "| 'c' | '2' |\n",
              "+-----+-----+"
            ]
          },
          "metadata": {},
          "execution_count": 66
        }
      ]
    },
    {
      "cell_type": "code",
      "source": [
        "# Or : When Values are stored in an attribute\n",
        "d = '''<table>\n",
        "     <tr>\n",
        "         <td v='foo'/><td v='bar'/>\n",
        "     </tr>\n",
        "     <tr>\n",
        "         <td v='a'/><td v='1'/>\n",
        "     </tr>\n",
        "     <tr>\n",
        "         <td v='b'/><td v='2'/>\n",
        "     </tr>\n",
        "     <tr>\n",
        "         <td v='c'/><td v='2'/>\n",
        "     </tr>\n",
        " </table>'''\n",
        "\n",
        "with open('example2.xml', 'w') as f:\n",
        "     f.write(d)\n",
        "\n",
        "# Extract data from XML File when values are stored in attributes\n",
        "table2 = etl.fromxml('example2.xml', 'tr', 'td', 'v')\n",
        "table2.look()"
      ],
      "metadata": {
        "colab": {
          "base_uri": "https://localhost:8080/"
        },
        "id": "0JphVBde2IX_",
        "outputId": "252777dd-4ab8-49d7-bc4f-d2acbfdcccb7"
      },
      "execution_count": 67,
      "outputs": [
        {
          "output_type": "execute_result",
          "data": {
            "text/plain": [
              "+-----+-----+\n",
              "| foo | bar |\n",
              "+=====+=====+\n",
              "| 'a' | '1' |\n",
              "+-----+-----+\n",
              "| 'b' | '2' |\n",
              "+-----+-----+\n",
              "| 'c' | '2' |\n",
              "+-----+-----+"
            ]
          },
          "metadata": {},
          "execution_count": 67
        }
      ]
    },
    {
      "cell_type": "code",
      "source": [
        "# Or: When Values are stored in a mapping of field names to elements path\n",
        "d = '''<table>\n",
        "     <row>\n",
        "         <foo>a</foo><baz><bar v='1'/><bar v='3'/></baz>\n",
        "     </row>\n",
        "     <row>\n",
        "         <foo>b</foo><baz><bar v='2'/></baz>\n",
        "     </row>\n",
        "     <row>\n",
        "         <foo>c</foo><baz><bar v='2'/></baz>\n",
        "     </row>\n",
        " </table>'''\n",
        "\n",
        "with open('example3.xml', 'w') as f:\n",
        "     f.write(d)\n",
        "\n",
        "# Extract data from XML\n",
        "table3 = etl.fromxml('example3.xml', 'row', {'foo': 'foo', 'bar': ('baz/bar', 'v')})\n",
        "table3.look()"
      ],
      "metadata": {
        "colab": {
          "base_uri": "https://localhost:8080/"
        },
        "id": "Q6CXWTGf2RiW",
        "outputId": "cea61907-4c0a-49cf-87f9-7169cce78bf3"
      },
      "execution_count": 70,
      "outputs": [
        {
          "output_type": "execute_result",
          "data": {
            "text/plain": [
              "+------------+-----+\n",
              "| bar        | foo |\n",
              "+============+=====+\n",
              "| ('1', '3') | 'a' |\n",
              "+------------+-----+\n",
              "| '2'        | 'b' |\n",
              "+------------+-----+\n",
              "| '2'        | 'c' |\n",
              "+------------+-----+"
            ]
          },
          "metadata": {},
          "execution_count": 70
        }
      ]
    },
    {
      "cell_type": "markdown",
      "source": [
        "# JSON Files"
      ],
      "metadata": {
        "id": "CLL8Rplb2qMi"
      }
    },
    {
      "cell_type": "code",
      "source": [
        "data = '''\n",
        " [{\"foo\": \"a\", \"bar\": 1},\n",
        " {\"foo\": \"b\", \"bar\": 2},\n",
        " {\"foo\": \"c\", \"bar\": 2}]\n",
        " '''\n",
        "\n",
        "with open('example.json', 'w') as f:\n",
        "     f.write(data)\n",
        "\n",
        "# Read from a JSON File\n",
        "table1 = etl.fromjson('example.json', header=['foo', 'bar'])\n",
        "table1.look()"
      ],
      "metadata": {
        "colab": {
          "base_uri": "https://localhost:8080/"
        },
        "id": "9JEwb4WA2Z4P",
        "outputId": "019974b3-dfaf-4e93-f8d6-174b3c02a6eb"
      },
      "execution_count": 71,
      "outputs": [
        {
          "output_type": "execute_result",
          "data": {
            "text/plain": [
              "+-----+-----+\n",
              "| foo | bar |\n",
              "+=====+=====+\n",
              "| 'a' |   1 |\n",
              "+-----+-----+\n",
              "| 'b' |   2 |\n",
              "+-----+-----+\n",
              "| 'c' |   2 |\n",
              "+-----+-----+"
            ]
          },
          "metadata": {},
          "execution_count": 71
        }
      ]
    },
    {
      "cell_type": "markdown",
      "source": [
        "Extraction from a JSON File"
      ],
      "metadata": {
        "id": "VH5JXxL-23rQ"
      }
    },
    {
      "cell_type": "code",
      "source": [
        "# Read from the sequence of Python dict as a table\n",
        "import petl as etl\n",
        "\n",
        "dicts = [\n",
        "            {\"foo\": \"a\", \"bar\": 1},\n",
        "            {\"foo\": \"b\", \"bar\": 2},\n",
        "            {\"foo\": \"c\", \"bar\": 2}\n",
        "        ]\n",
        "\n",
        "table1 = etl.fromdicts(dicts, header=['foo','bar'])\n",
        "table1.look()"
      ],
      "metadata": {
        "colab": {
          "base_uri": "https://localhost:8080/"
        },
        "id": "UY9htePu2uBX",
        "outputId": "e4500a57-d57a-4f90-cca4-b68c40397bc9"
      },
      "execution_count": 72,
      "outputs": [
        {
          "output_type": "execute_result",
          "data": {
            "text/plain": [
              "+-----+-----+\n",
              "| foo | bar |\n",
              "+=====+=====+\n",
              "| 'a' |   1 |\n",
              "+-----+-----+\n",
              "| 'b' |   2 |\n",
              "+-----+-----+\n",
              "| 'c' |   2 |\n",
              "+-----+-----+"
            ]
          },
          "metadata": {},
          "execution_count": 72
        }
      ]
    },
    {
      "cell_type": "markdown",
      "source": [
        "Loading into a JSON File"
      ],
      "metadata": {
        "id": "JR4Sexag2_9P"
      }
    },
    {
      "cell_type": "code",
      "source": [
        "table1 = [['foo', 'bar'],\n",
        "           ['a', 1],\n",
        "           ['b', 2],\n",
        "           ['c', 3]]\n",
        "etl.tojson(table1, 'example.json', sort_keys=True)\n",
        "# Output of saved file\n",
        "print(open('example.json').read())"
      ],
      "metadata": {
        "colab": {
          "base_uri": "https://localhost:8080/"
        },
        "id": "pA9vGxsd26r-",
        "outputId": "fdb000dc-45f6-4b29-bfa4-8e39b20b039e"
      },
      "execution_count": 73,
      "outputs": [
        {
          "output_type": "stream",
          "name": "stdout",
          "text": [
            "[{\"bar\": 1, \"foo\": \"a\"}, {\"bar\": 2, \"foo\": \"b\"}, {\"bar\": 3, \"foo\": \"c\"}]\n"
          ]
        }
      ]
    },
    {
      "cell_type": "markdown",
      "source": [
        "# Databases"
      ],
      "metadata": {
        "id": "7EdVqMwC3FAH"
      }
    },
    {
      "cell_type": "code",
      "source": [
        "import pymysql\n",
        "\n",
        "# Extraction from a Database\n",
        "connection = pymysql.connect(host='sql11.freesqldatabase.com', user='sql11519659', password='ABljg2IqYj', database='sql11519659')\n",
        "table = etl.fromdb(connection, 'SELECT * FROM foobar')\n",
        "table.look()"
      ],
      "metadata": {
        "colab": {
          "base_uri": "https://localhost:8080/"
        },
        "id": "PbBD0Wns3CP-",
        "outputId": "db4a44f4-48ee-4746-b733-aefef126585b"
      },
      "execution_count": 78,
      "outputs": [
        {
          "output_type": "execute_result",
          "data": {
            "text/plain": [
              "+-----+-----+\n",
              "| foo | bar |\n",
              "+=====+=====+\n",
              "| 'a' |   1 |\n",
              "+-----+-----+\n",
              "| 'b' |   2 |\n",
              "+-----+-----+\n",
              "| 'c' |   3 |\n",
              "+-----+-----+"
            ]
          },
          "metadata": {},
          "execution_count": 78
        }
      ]
    },
    {
      "cell_type": "code",
      "source": [
        "# Loading into a Database\n",
        "table = [['foo','bar'],\n",
        "         ['a', 1],\n",
        "         ['b', 2],\n",
        "         ['c', 3]]\n",
        "\n",
        "\n",
        "connection = pymysql.connect(host='sql11.freesqldatabase.com', user='sql11519659', password='ABljg2IqYj', database='sql11519659')\n",
        "connection.cursor().execute('SET SQL_MODE=ANSI_QUOTES')\n",
        "etl.todb(table, connection, 'foobar', create=True)"
      ],
      "metadata": {
        "id": "2t7jSoF5PES7"
      },
      "execution_count": 77,
      "outputs": []
    },
    {
      "cell_type": "markdown",
      "source": [
        "# Excel File"
      ],
      "metadata": {
        "id": "OQsDHvPePvbq"
      }
    },
    {
      "cell_type": "code",
      "source": [
        "table = [['foo', 'bar'],\n",
        "           ['a', 1],\n",
        "           ['b', 2],\n",
        "           ['c', 3]]\n",
        "\n",
        "etl.toxls(table, 'example.xls', 'Example')\n",
        "etl.toxlsx(table, 'example.xlsx', 'Example')\n",
        "\n",
        "# Read from a Excel File\n",
        "table1 = etl.fromxlsx('example.xlsx', 'Example')\n",
        "table1.look()"
      ],
      "metadata": {
        "colab": {
          "base_uri": "https://localhost:8080/"
        },
        "id": "4JZbBKG3PehD",
        "outputId": "8edd10c3-8a96-40b2-ffb9-3289ec817c5e"
      },
      "execution_count": 82,
      "outputs": [
        {
          "output_type": "execute_result",
          "data": {
            "text/plain": [
              "+-----+-----+\n",
              "| foo | bar |\n",
              "+=====+=====+\n",
              "| 'a' |   1 |\n",
              "+-----+-----+\n",
              "| 'b' |   2 |\n",
              "+-----+-----+\n",
              "| 'c' |   3 |\n",
              "+-----+-----+"
            ]
          },
          "metadata": {},
          "execution_count": 82
        }
      ]
    },
    {
      "cell_type": "markdown",
      "source": [
        "# Numpy Array"
      ],
      "metadata": {
        "id": "5W14OJT2Qm2i"
      }
    },
    {
      "cell_type": "code",
      "source": [
        "import numpy as np\n",
        "\n",
        "a = np.array([('apples', 1, 2.5),\n",
        "              ('oranges', 3, 4.4),\n",
        "              ('pears', 7, 0.1)],\n",
        "    dtype='U8, i4, f4')\n",
        "\n",
        "table = etl.fromarray(a)\n",
        "table.look()"
      ],
      "metadata": {
        "colab": {
          "base_uri": "https://localhost:8080/"
        },
        "id": "-Bte_GrDQFDc",
        "outputId": "2c909117-885b-499d-89e1-572e0b5aa493"
      },
      "execution_count": 83,
      "outputs": [
        {
          "output_type": "execute_result",
          "data": {
            "text/plain": [
              "+-----------+----+-----+\n",
              "| f0        | f1 | f2  |\n",
              "+===========+====+=====+\n",
              "| 'apples'  | 1  | 2.5 |\n",
              "+-----------+----+-----+\n",
              "| 'oranges' | 3  | 4.4 |\n",
              "+-----------+----+-----+\n",
              "| 'pears'   | 7  | 0.1 |\n",
              "+-----------+----+-----+"
            ]
          },
          "metadata": {},
          "execution_count": 83
        }
      ]
    },
    {
      "cell_type": "code",
      "source": [
        "# Load data from the given table into a numpy array\n",
        "b = table.toarray()\n",
        "b"
      ],
      "metadata": {
        "colab": {
          "base_uri": "https://localhost:8080/"
        },
        "id": "gGCFjbjnQ3Pq",
        "outputId": "bfe0c56d-2930-4b6d-fa8b-a06dee6678eb"
      },
      "execution_count": 85,
      "outputs": [
        {
          "output_type": "execute_result",
          "data": {
            "text/plain": [
              "array([('apples', 1, 2.5), ('oranges', 3, 4.4), ('pears', 7, 0.1)],\n",
              "      dtype=(numpy.record, [('f0', '<U7'), ('f1', '<i4'), ('f2', '<f4')]))"
            ]
          },
          "metadata": {},
          "execution_count": 85
        }
      ]
    },
    {
      "cell_type": "markdown",
      "source": [
        "# Dataframe (Pandas)"
      ],
      "metadata": {
        "id": "BEaYqh1ARK8Q"
      }
    },
    {
      "cell_type": "code",
      "source": [
        "# Create a DataFrame from a Table\n",
        "df = table.todataframe()\n",
        "df"
      ],
      "metadata": {
        "colab": {
          "base_uri": "https://localhost:8080/",
          "height": 143
        },
        "id": "79thQmLsQ5s7",
        "outputId": "603cc167-2e53-459e-e931-f726090d3042"
      },
      "execution_count": 87,
      "outputs": [
        {
          "output_type": "execute_result",
          "data": {
            "text/plain": [
              "        f0  f1   f2\n",
              "0   apples   1  2.5\n",
              "1  oranges   3  4.4\n",
              "2    pears   7  0.1"
            ],
            "text/html": [
              "\n",
              "  <div id=\"df-dbb304d6-8af4-44a0-a0b8-06406ba0a49b\">\n",
              "    <div class=\"colab-df-container\">\n",
              "      <div>\n",
              "<style scoped>\n",
              "    .dataframe tbody tr th:only-of-type {\n",
              "        vertical-align: middle;\n",
              "    }\n",
              "\n",
              "    .dataframe tbody tr th {\n",
              "        vertical-align: top;\n",
              "    }\n",
              "\n",
              "    .dataframe thead th {\n",
              "        text-align: right;\n",
              "    }\n",
              "</style>\n",
              "<table border=\"1\" class=\"dataframe\">\n",
              "  <thead>\n",
              "    <tr style=\"text-align: right;\">\n",
              "      <th></th>\n",
              "      <th>f0</th>\n",
              "      <th>f1</th>\n",
              "      <th>f2</th>\n",
              "    </tr>\n",
              "  </thead>\n",
              "  <tbody>\n",
              "    <tr>\n",
              "      <th>0</th>\n",
              "      <td>apples</td>\n",
              "      <td>1</td>\n",
              "      <td>2.5</td>\n",
              "    </tr>\n",
              "    <tr>\n",
              "      <th>1</th>\n",
              "      <td>oranges</td>\n",
              "      <td>3</td>\n",
              "      <td>4.4</td>\n",
              "    </tr>\n",
              "    <tr>\n",
              "      <th>2</th>\n",
              "      <td>pears</td>\n",
              "      <td>7</td>\n",
              "      <td>0.1</td>\n",
              "    </tr>\n",
              "  </tbody>\n",
              "</table>\n",
              "</div>\n",
              "      <button class=\"colab-df-convert\" onclick=\"convertToInteractive('df-dbb304d6-8af4-44a0-a0b8-06406ba0a49b')\"\n",
              "              title=\"Convert this dataframe to an interactive table.\"\n",
              "              style=\"display:none;\">\n",
              "        \n",
              "  <svg xmlns=\"http://www.w3.org/2000/svg\" height=\"24px\"viewBox=\"0 0 24 24\"\n",
              "       width=\"24px\">\n",
              "    <path d=\"M0 0h24v24H0V0z\" fill=\"none\"/>\n",
              "    <path d=\"M18.56 5.44l.94 2.06.94-2.06 2.06-.94-2.06-.94-.94-2.06-.94 2.06-2.06.94zm-11 1L8.5 8.5l.94-2.06 2.06-.94-2.06-.94L8.5 2.5l-.94 2.06-2.06.94zm10 10l.94 2.06.94-2.06 2.06-.94-2.06-.94-.94-2.06-.94 2.06-2.06.94z\"/><path d=\"M17.41 7.96l-1.37-1.37c-.4-.4-.92-.59-1.43-.59-.52 0-1.04.2-1.43.59L10.3 9.45l-7.72 7.72c-.78.78-.78 2.05 0 2.83L4 21.41c.39.39.9.59 1.41.59.51 0 1.02-.2 1.41-.59l7.78-7.78 2.81-2.81c.8-.78.8-2.07 0-2.86zM5.41 20L4 18.59l7.72-7.72 1.47 1.35L5.41 20z\"/>\n",
              "  </svg>\n",
              "      </button>\n",
              "      \n",
              "  <style>\n",
              "    .colab-df-container {\n",
              "      display:flex;\n",
              "      flex-wrap:wrap;\n",
              "      gap: 12px;\n",
              "    }\n",
              "\n",
              "    .colab-df-convert {\n",
              "      background-color: #E8F0FE;\n",
              "      border: none;\n",
              "      border-radius: 50%;\n",
              "      cursor: pointer;\n",
              "      display: none;\n",
              "      fill: #1967D2;\n",
              "      height: 32px;\n",
              "      padding: 0 0 0 0;\n",
              "      width: 32px;\n",
              "    }\n",
              "\n",
              "    .colab-df-convert:hover {\n",
              "      background-color: #E2EBFA;\n",
              "      box-shadow: 0px 1px 2px rgba(60, 64, 67, 0.3), 0px 1px 3px 1px rgba(60, 64, 67, 0.15);\n",
              "      fill: #174EA6;\n",
              "    }\n",
              "\n",
              "    [theme=dark] .colab-df-convert {\n",
              "      background-color: #3B4455;\n",
              "      fill: #D2E3FC;\n",
              "    }\n",
              "\n",
              "    [theme=dark] .colab-df-convert:hover {\n",
              "      background-color: #434B5C;\n",
              "      box-shadow: 0px 1px 3px 1px rgba(0, 0, 0, 0.15);\n",
              "      filter: drop-shadow(0px 1px 2px rgba(0, 0, 0, 0.3));\n",
              "      fill: #FFFFFF;\n",
              "    }\n",
              "  </style>\n",
              "\n",
              "      <script>\n",
              "        const buttonEl =\n",
              "          document.querySelector('#df-dbb304d6-8af4-44a0-a0b8-06406ba0a49b button.colab-df-convert');\n",
              "        buttonEl.style.display =\n",
              "          google.colab.kernel.accessAllowed ? 'block' : 'none';\n",
              "\n",
              "        async function convertToInteractive(key) {\n",
              "          const element = document.querySelector('#df-dbb304d6-8af4-44a0-a0b8-06406ba0a49b');\n",
              "          const dataTable =\n",
              "            await google.colab.kernel.invokeFunction('convertToInteractive',\n",
              "                                                     [key], {});\n",
              "          if (!dataTable) return;\n",
              "\n",
              "          const docLinkHtml = 'Like what you see? Visit the ' +\n",
              "            '<a target=\"_blank\" href=https://colab.research.google.com/notebooks/data_table.ipynb>data table notebook</a>'\n",
              "            + ' to learn more about interactive tables.';\n",
              "          element.innerHTML = '';\n",
              "          dataTable['output_type'] = 'display_data';\n",
              "          await google.colab.output.renderOutput(dataTable, element);\n",
              "          const docLink = document.createElement('div');\n",
              "          docLink.innerHTML = docLinkHtml;\n",
              "          element.appendChild(docLink);\n",
              "        }\n",
              "      </script>\n",
              "    </div>\n",
              "  </div>\n",
              "  "
            ]
          },
          "metadata": {},
          "execution_count": 87
        }
      ]
    },
    {
      "cell_type": "code",
      "source": [
        "# Load data from a DataFrame\n",
        "table2 = etl.fromdataframe(df)\n",
        "table2.look()"
      ],
      "metadata": {
        "colab": {
          "base_uri": "https://localhost:8080/"
        },
        "id": "l3lSYMEERReD",
        "outputId": "65685702-2696-4878-fd59-f384ad06225e"
      },
      "execution_count": 88,
      "outputs": [
        {
          "output_type": "execute_result",
          "data": {
            "text/plain": [
              "+-----------+----+---------------------+\n",
              "| f0        | f1 | f2                  |\n",
              "+===========+====+=====================+\n",
              "| 'apples'  |  1 |                 2.5 |\n",
              "+-----------+----+---------------------+\n",
              "| 'oranges' |  3 |   4.400000095367432 |\n",
              "+-----------+----+---------------------+\n",
              "| 'pears'   |  7 | 0.10000000149011612 |\n",
              "+-----------+----+---------------------+"
            ]
          },
          "metadata": {},
          "execution_count": 88
        }
      ]
    }
  ]
}