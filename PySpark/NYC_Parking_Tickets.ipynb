{
  "nbformat": 4,
  "nbformat_minor": 0,
  "metadata": {
    "colab": {
      "provenance": [],
      "authorship_tag": "ABX9TyMlvbvnsu8IO4w2x72vGLFu",
      "include_colab_link": true
    },
    "kernelspec": {
      "name": "python3",
      "display_name": "Python 3"
    },
    "language_info": {
      "name": "python"
    }
  },
  "cells": [
    {
      "cell_type": "markdown",
      "metadata": {
        "id": "view-in-github",
        "colab_type": "text"
      },
      "source": [
        "<a href=\"https://colab.research.google.com/github/binhvd/Data-Management-2/blob/main/PySpark/NYC_Parking_Tickets.ipynb\" target=\"_parent\"><img src=\"https://colab.research.google.com/assets/colab-badge.svg\" alt=\"Open In Colab\"/></a>"
      ]
    },
    {
      "cell_type": "markdown",
      "source": [
        "## Download files from Google Cloud Storage"
      ],
      "metadata": {
        "id": "QJryoF1iHsIe"
      }
    },
    {
      "cell_type": "code",
      "source": [
        "!wget https://storage.googleapis.com/dm2-data/new-york/Parking_Violations_Issued_-_Fiscal_Year_2015.csv\n",
        "!wget https://storage.googleapis.com/dm2-data/new-york/Parking_Violations_Issued_-_Fiscal_Year_2016.csv\n",
        "!wget https://storage.googleapis.com/dm2-data/new-york/Parking_Violations_Issued_-_Fiscal_Year_2017.csv"
      ],
      "metadata": {
        "id": "9IW2GwjcHVUM"
      },
      "execution_count": null,
      "outputs": []
    },
    {
      "cell_type": "markdown",
      "source": [
        "## Try to import records to DataFrames"
      ],
      "metadata": {
        "id": "pN_ULrjRHxU5"
      }
    },
    {
      "cell_type": "code",
      "source": [
        "import glob\n",
        "import pandas as pd   \n",
        "import time\n",
        "\n",
        "data = []\n",
        "start_time = time.time()\n",
        "\n",
        "for path in glob.glob(\"/content/*.csv\"):\n",
        "  df = pd.read_csv(path)\n",
        "  data.append(df)\n",
        "\n",
        "df = pd.concat(data)\n",
        "print(\"--- %s seconds ---\" % (time.time() - start_time))"
      ],
      "metadata": {
        "id": "QR9hsbemHV2x"
      },
      "execution_count": null,
      "outputs": []
    },
    {
      "cell_type": "markdown",
      "source": [
        "## Connect to Cluster"
      ],
      "metadata": {
        "id": "rPhVQLq9H4FT"
      }
    },
    {
      "cell_type": "code",
      "source": [
        "from pyspark.sql import SparkSession\n",
        "\n",
        "spark = SparkSession.builder\\\n",
        "        .master(\"yarn\")\\\n",
        "        .appName('NYC-Parking-Tickets')\\\n",
        "        .getOrCreate()"
      ],
      "metadata": {
        "id": "bWYda3oMJREd"
      },
      "execution_count": null,
      "outputs": []
    },
    {
      "cell_type": "markdown",
      "source": [
        "## Read CSV files to DataFrame\n"
      ],
      "metadata": {
        "id": "FBTAvzNWH-ij"
      }
    },
    {
      "cell_type": "code",
      "source": [
        "data = spark.read.csv(\n",
        "    'gs://dm2-data/new-york/*.csv',\n",
        "    sep = ',',\n",
        "    header = True,\n",
        ")\n",
        "\n",
        "data.printSchema()"
      ],
      "metadata": {
        "id": "1kdmN0ScHCZZ"
      },
      "execution_count": null,
      "outputs": []
    },
    {
      "cell_type": "markdown",
      "source": [
        "## Count records"
      ],
      "metadata": {
        "id": "Kd7Ll9InIFlJ"
      }
    },
    {
      "cell_type": "code",
      "source": [
        "data.count()"
      ],
      "metadata": {
        "id": "XYpX8X7xHKe7"
      },
      "execution_count": null,
      "outputs": []
    },
    {
      "cell_type": "markdown",
      "source": [
        "## Count which cars get the most tickets"
      ],
      "metadata": {
        "id": "WspKouHgIH2n"
      }
    },
    {
      "cell_type": "code",
      "source": [
        "from pyspark.sql import functions as f\n",
        "import time\n",
        "\n",
        "start_time = time.time()\n",
        "data.groupBy(\"Vehicle Make\").count().sort(f.col(\"count\").desc()).show()\n",
        "print(\"--- %s seconds ---\" % (time.time() - start_time))"
      ],
      "metadata": {
        "id": "a65NINxnHMEV"
      },
      "execution_count": null,
      "outputs": []
    }
  ]
}