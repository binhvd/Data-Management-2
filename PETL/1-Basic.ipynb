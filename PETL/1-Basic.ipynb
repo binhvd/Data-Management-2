{
  "nbformat": 4,
  "nbformat_minor": 0,
  "metadata": {
    "colab": {
      "provenance": [],
      "authorship_tag": "ABX9TyNUfEGR75tPwLevF9pcNFEZ",
      "include_colab_link": true
    },
    "kernelspec": {
      "name": "python3",
      "display_name": "Python 3"
    },
    "language_info": {
      "name": "python"
    }
  },
  "cells": [
    {
      "cell_type": "markdown",
      "metadata": {
        "id": "view-in-github",
        "colab_type": "text"
      },
      "source": [
        "<a href=\"https://colab.research.google.com/github/binhvd/Data-Management-2/blob/main/PETL/1-Basic.ipynb\" target=\"_parent\"><img src=\"https://colab.research.google.com/assets/colab-badge.svg\" alt=\"Open In Colab\"/></a>"
      ]
    },
    {
      "cell_type": "markdown",
      "source": [
        "**petl** is a general purpose Python package for extracting, transforming and loading tables of data.\n",
        "\n",
        "![Architecture](https://petl.readthedocs.io/en/stable/_images/petl-architecture.png)\n"
      ],
      "metadata": {
        "id": "ARM_i3SmaqMg"
      }
    },
    {
      "cell_type": "code",
      "source": [
        "\"\"\"\n",
        "Created on Wed Aug  7 11:29:12 2019\n",
        "@author: ashish\n",
        "\"\"\"\n",
        "\n",
        "# petl is a framework with the help of which we can create ETL job\n",
        "# Documentation Link: https://petl.readthedocs.io/en/stable/intro.html#\n",
        "\n",
        "# Command to install the petl package : pip install petl\n",
        "# Demo job to demonstrate an ETL workflow with the help of petl\n",
        "!pip install petl"
      ],
      "metadata": {
        "colab": {
          "base_uri": "https://localhost:8080/"
        },
        "id": "qXM30vyzM71m",
        "outputId": "c3237b6e-b5ea-40a9-cebc-499f9cc225f3"
      },
      "execution_count": 29,
      "outputs": [
        {
          "output_type": "stream",
          "name": "stdout",
          "text": [
            "Looking in indexes: https://pypi.org/simple, https://us-python.pkg.dev/colab-wheels/public/simple/\n",
            "Collecting petl\n",
            "  Downloading petl-1.7.11.tar.gz (408 kB)\n",
            "\u001b[K     |████████████████████████████████| 408 kB 3.9 MB/s \n",
            "\u001b[?25h  Installing build dependencies ... \u001b[?25l\u001b[?25hdone\n",
            "  Getting requirements to build wheel ... \u001b[?25l\u001b[?25hdone\n",
            "    Preparing wheel metadata ... \u001b[?25l\u001b[?25hdone\n",
            "Building wheels for collected packages: petl\n",
            "  Building wheel for petl (PEP 517) ... \u001b[?25l\u001b[?25hdone\n",
            "  Created wheel for petl: filename=petl-1.7.11-py3-none-any.whl size=226448 sha256=17be3b25b5df67f9664199e382f05513db4dbd190d0c4ddc28ae143d7919303d\n",
            "  Stored in directory: /root/.cache/pip/wheels/bc/0f/ae/4f496e580063d9929bd46b9f4d97e8884ece77dc80cd0ccb79\n",
            "Successfully built petl\n",
            "Installing collected packages: petl\n",
            "Successfully installed petl-1.7.11\n"
          ]
        }
      ]
    },
    {
      "cell_type": "code",
      "execution_count": 30,
      "metadata": {
        "id": "Qqf5HNcCAL5h"
      },
      "outputs": [],
      "source": [
        "# Prepare an example\n",
        "example_data = \"\"\"foo,bar,baz\n",
        "a,1,3.4\n",
        "b,2,7.4\n",
        "c,6,2.2\n",
        "d,9,8.1\n",
        "\"\"\"\n",
        "\n",
        "with open('example.csv', 'w') as f:  # Write record in a CSV file\n",
        "    f.write(example_data)"
      ]
    },
    {
      "cell_type": "markdown",
      "source": [
        "# Extract table from file"
      ],
      "metadata": {
        "id": "tFm-9toyYqp5"
      }
    },
    {
      "cell_type": "code",
      "source": [
        "# Import petl library to create a etl pipeline\n",
        "import petl as etl\n",
        "\n",
        "# table1 is a table container\n",
        "table1 = etl.fromcsv('example.csv') # Read the records from the CSV file into a variable with datatype of data table. \n",
        "# Check the datatype\n",
        "type(table1)"
      ],
      "metadata": {
        "colab": {
          "base_uri": "https://localhost:8080/"
        },
        "id": "y1vyH0NHK47E",
        "outputId": "870a3712-1c04-4074-c9ed-6dad49c642e3"
      },
      "execution_count": 31,
      "outputs": [
        {
          "output_type": "execute_result",
          "data": {
            "text/plain": [
              "petl.io.csv_py3.CSVView"
            ]
          },
          "metadata": {},
          "execution_count": 31
        }
      ]
    },
    {
      "cell_type": "code",
      "source": [
        "# Convert the value of column in a table based on the argument given in this function. \n",
        "# convert(table, *args, **kwargs)  \n",
        "table2 = etl.convert(table1, 'foo', 'upper') \n",
        "\n",
        "# look() by default only shows 5 records\n",
        "etl.look(table2)"
      ],
      "metadata": {
        "colab": {
          "base_uri": "https://localhost:8080/"
        },
        "id": "KTyymgufUfeR",
        "outputId": "072e7971-6534-475e-ab58-fdb091b503b2"
      },
      "execution_count": 32,
      "outputs": [
        {
          "output_type": "execute_result",
          "data": {
            "text/plain": [
              "+-----+-----+-------+\n",
              "| foo | bar | baz   |\n",
              "+=====+=====+=======+\n",
              "| 'A' | '1' | '3.4' |\n",
              "+-----+-----+-------+\n",
              "| 'B' | '2' | '7.4' |\n",
              "+-----+-----+-------+\n",
              "| 'C' | '6' | '2.2' |\n",
              "+-----+-----+-------+\n",
              "| 'D' | '9' | '8.1' |\n",
              "+-----+-----+-------+"
            ]
          },
          "metadata": {},
          "execution_count": 32
        }
      ]
    },
    {
      "cell_type": "code",
      "source": [
        "# Convert datatype of the column into integer\n",
        "table3 = etl.convert(table2, 'bar', int) \n",
        "etl.look(table3)"
      ],
      "metadata": {
        "colab": {
          "base_uri": "https://localhost:8080/"
        },
        "id": "B1ovjOxIVBk7",
        "outputId": "a8ec45cc-3251-4b46-9db9-2ba3f8f77983"
      },
      "execution_count": 36,
      "outputs": [
        {
          "output_type": "execute_result",
          "data": {
            "text/plain": [
              "+-----+-----+-------+\n",
              "| foo | bar | baz   |\n",
              "+=====+=====+=======+\n",
              "| 'A' |   1 | '3.4' |\n",
              "+-----+-----+-------+\n",
              "| 'B' |   2 | '7.4' |\n",
              "+-----+-----+-------+\n",
              "| 'C' |   6 | '2.2' |\n",
              "+-----+-----+-------+\n",
              "| 'D' |   9 | '8.1' |\n",
              "+-----+-----+-------+"
            ]
          },
          "metadata": {},
          "execution_count": 36
        }
      ]
    },
    {
      "cell_type": "code",
      "source": [
        "# Convert datatype of the column into float\n",
        "table4 = etl.convert(table3, 'baz', float) \n",
        "etl.look(table4) "
      ],
      "metadata": {
        "colab": {
          "base_uri": "https://localhost:8080/"
        },
        "id": "vyFb5N6hVEvL",
        "outputId": "b5ae071d-5358-4643-cfff-1b427c3dd489"
      },
      "execution_count": 37,
      "outputs": [
        {
          "output_type": "execute_result",
          "data": {
            "text/plain": [
              "+-----+-----+-----+\n",
              "| foo | bar | baz |\n",
              "+=====+=====+=====+\n",
              "| 'A' |   1 | 3.4 |\n",
              "+-----+-----+-----+\n",
              "| 'B' |   2 | 7.4 |\n",
              "+-----+-----+-----+\n",
              "| 'C' |   6 | 2.2 |\n",
              "+-----+-----+-----+\n",
              "| 'D' |   9 | 8.1 |\n",
              "+-----+-----+-----+"
            ]
          },
          "metadata": {},
          "execution_count": 37
        }
      ]
    },
    {
      "cell_type": "code",
      "source": [
        "# Create a new column based on existing columns\n",
        "table5 = etl.addfield(table4, 'quux', lambda row: row.bar * row.baz) \n",
        "etl.look(table5) "
      ],
      "metadata": {
        "colab": {
          "base_uri": "https://localhost:8080/"
        },
        "id": "dLCR9t3CVHII",
        "outputId": "9a6a4c94-e1ed-40de-fdf4-3107226467cd"
      },
      "execution_count": 38,
      "outputs": [
        {
          "output_type": "execute_result",
          "data": {
            "text/plain": [
              "+-----+-----+-----+--------------------+\n",
              "| foo | bar | baz | quux               |\n",
              "+=====+=====+=====+====================+\n",
              "| 'A' |   1 | 3.4 |                3.4 |\n",
              "+-----+-----+-----+--------------------+\n",
              "| 'B' |   2 | 7.4 |               14.8 |\n",
              "+-----+-----+-----+--------------------+\n",
              "| 'C' |   6 | 2.2 | 13.200000000000001 |\n",
              "+-----+-----+-----+--------------------+\n",
              "| 'D' |   9 | 8.1 |  72.89999999999999 |\n",
              "+-----+-----+-----+--------------------+"
            ]
          },
          "metadata": {},
          "execution_count": 38
        }
      ]
    },
    {
      "cell_type": "markdown",
      "source": [
        "Another way to write the complete above pipeline in petl\n",
        "\n",
        "Object Oriented Programming Style"
      ],
      "metadata": {
        "id": "j2Ehyg9eMPqn"
      }
    },
    {
      "cell_type": "code",
      "source": [
        "table = (\n",
        "        etl\n",
        "        .fromcsv('example.csv')\n",
        "        .convert('foo', 'upper')\n",
        "        .convert('bar', int)\n",
        "        .convert('baz', float)\n",
        "        .addfield('quux', lambda row: row.bar * row.baz)\n",
        "        )\n",
        "\n",
        "table.look()"
      ],
      "metadata": {
        "colab": {
          "base_uri": "https://localhost:8080/"
        },
        "id": "P_gXv7IfAQrD",
        "outputId": "47299241-67a4-43b6-ba51-d9f0b53901bb"
      },
      "execution_count": 39,
      "outputs": [
        {
          "output_type": "execute_result",
          "data": {
            "text/plain": [
              "+-----+-----+-----+--------------------+\n",
              "| foo | bar | baz | quux               |\n",
              "+=====+=====+=====+====================+\n",
              "| 'A' |   1 | 3.4 |                3.4 |\n",
              "+-----+-----+-----+--------------------+\n",
              "| 'B' |   2 | 7.4 |               14.8 |\n",
              "+-----+-----+-----+--------------------+\n",
              "| 'C' |   6 | 2.2 | 13.200000000000001 |\n",
              "+-----+-----+-----+--------------------+\n",
              "| 'D' |   9 | 8.1 |  72.89999999999999 |\n",
              "+-----+-----+-----+--------------------+"
            ]
          },
          "metadata": {},
          "execution_count": 39
        }
      ]
    },
    {
      "cell_type": "markdown",
      "source": [
        "# Extract table from list"
      ],
      "metadata": {
        "id": "X2PL8n0uWQBi"
      }
    },
    {
      "cell_type": "code",
      "source": [
        "l = [['foo', 'bar'], ['a', 1], ['b', 2], ['c', 3]]\n",
        "print(l) # l is a table iterator"
      ],
      "metadata": {
        "colab": {
          "base_uri": "https://localhost:8080/"
        },
        "id": "OSpLxiwNAWDy",
        "outputId": "efaea35a-2acc-4666-eeb8-8cf07e8499c2"
      },
      "execution_count": 41,
      "outputs": [
        {
          "output_type": "stream",
          "name": "stdout",
          "text": [
            "[['foo', 'bar'], ['a', 1], ['b', 2], ['c', 3]]\n"
          ]
        }
      ]
    },
    {
      "cell_type": "code",
      "source": [
        "# wrap() - to use object-oriented style with table container object\n",
        "table = etl.wrap(l)\n",
        "table.look()"
      ],
      "metadata": {
        "colab": {
          "base_uri": "https://localhost:8080/"
        },
        "id": "R9jZTGKfWJ6g",
        "outputId": "55a7f157-8b2c-4fa4-d7ab-c6785ded96e3"
      },
      "execution_count": 42,
      "outputs": [
        {
          "output_type": "execute_result",
          "data": {
            "text/plain": [
              "+-----+-----+\n",
              "| foo | bar |\n",
              "+=====+=====+\n",
              "| 'a' |   1 |\n",
              "+-----+-----+\n",
              "| 'b' |   2 |\n",
              "+-----+-----+\n",
              "| 'c' |   3 |\n",
              "+-----+-----+"
            ]
          },
          "metadata": {},
          "execution_count": 42
        }
      ]
    },
    {
      "cell_type": "code",
      "source": [
        "# Print function\n",
        "print(table) "
      ],
      "metadata": {
        "colab": {
          "base_uri": "https://localhost:8080/"
        },
        "id": "mIDG1Xh7WWKJ",
        "outputId": "d4f8ceef-9caa-49b8-d396-e3569c3a580f"
      },
      "execution_count": 43,
      "outputs": [
        {
          "output_type": "stream",
          "name": "stdout",
          "text": [
            "+-----+-----+\n",
            "| foo | bar |\n",
            "+=====+=====+\n",
            "| a   |   1 |\n",
            "+-----+-----+\n",
            "| b   |   2 |\n",
            "+-----+-----+\n",
            "| c   |   3 |\n",
            "+-----+-----+\n",
            "\n"
          ]
        }
      ]
    },
    {
      "cell_type": "markdown",
      "source": [
        "# Use of Numpy arrays with petl"
      ],
      "metadata": {
        "id": "3Mpud_NSMgFr"
      }
    },
    {
      "cell_type": "code",
      "source": [
        "import numpy as np\n",
        "\n",
        "a = np.array([('apples', 1, 2.5),\n",
        "              ('oranges', 3, 4.4),\n",
        "               ('pears', 7, 0.1)],\n",
        "              dtype='U8, i4, f4') # short for unicode 64 bits, integer 32 bits, float 32 bits\n",
        "\n",
        "t1 = etl.fromarray(a)\n",
        "t1.look()"
      ],
      "metadata": {
        "colab": {
          "base_uri": "https://localhost:8080/"
        },
        "id": "l4M3lnAAAa1M",
        "outputId": "ea837542-41b7-4156-c1b5-04b25cef30f0"
      },
      "execution_count": 47,
      "outputs": [
        {
          "output_type": "execute_result",
          "data": {
            "text/plain": [
              "+-----------+----+-----+\n",
              "| f0        | f1 | f2  |\n",
              "+===========+====+=====+\n",
              "| 'apples'  | 1  | 2.5 |\n",
              "+-----------+----+-----+\n",
              "| 'oranges' | 3  | 4.4 |\n",
              "+-----------+----+-----+\n",
              "| 'pears'   | 7  | 0.1 |\n",
              "+-----------+----+-----+"
            ]
          },
          "metadata": {},
          "execution_count": 47
        }
      ]
    },
    {
      "cell_type": "code",
      "source": [
        "# Cut only filter out the specified columns\n",
        "# Convert performs transformations\n",
        "# addfield adds an additional columns\n",
        "t2 = t1.cut('f0', 'f2').convert('f0', 'upper').addfield('f3', lambda row: row.f2 * 2)\n",
        "print(t2)"
      ],
      "metadata": {
        "colab": {
          "base_uri": "https://localhost:8080/"
        },
        "id": "2Fa9TQq-Ab-m",
        "outputId": "992596a8-9437-4a6b-a20a-0f61c37f8b41"
      },
      "execution_count": 48,
      "outputs": [
        {
          "output_type": "stream",
          "name": "stdout",
          "text": [
            "+---------+-----+---------------------+\n",
            "| f0      | f2  | f3                  |\n",
            "+=========+=====+=====================+\n",
            "| APPLES  | 2.5 |                 5.0 |\n",
            "+---------+-----+---------------------+\n",
            "| ORANGES | 4.4 |   8.800000190734863 |\n",
            "+---------+-----+---------------------+\n",
            "| PEARS   | 0.1 | 0.20000000298023224 |\n",
            "+---------+-----+---------------------+\n",
            "\n"
          ]
        }
      ]
    }
  ]
}