{
  "nbformat": 4,
  "nbformat_minor": 0,
  "metadata": {
    "colab": {
      "provenance": [],
      "authorship_tag": "ABX9TyMQSy4ztn8l3yDDw5EUxXeI",
      "include_colab_link": true
    },
    "kernelspec": {
      "name": "python3",
      "display_name": "Python 3"
    },
    "language_info": {
      "name": "python"
    }
  },
  "cells": [
    {
      "cell_type": "markdown",
      "metadata": {
        "id": "view-in-github",
        "colab_type": "text"
      },
      "source": [
        "<a href=\"https://colab.research.google.com/github/binhvd/Data-Management-2/blob/main/PETL/3-Basic-Transformation.ipynb\" target=\"_parent\"><img src=\"https://colab.research.google.com/assets/colab-badge.svg\" alt=\"Open In Colab\"/></a>"
      ]
    },
    {
      "cell_type": "code",
      "source": [
        "\"\"\"\n",
        "@author: ashish\n",
        "\"\"\"\n",
        "\n",
        "# petl is a framework with the help of which we can create ETL job\n",
        "# Documentation Link: https://petl.readthedocs.io/en/stable/intro.html#\n",
        "\n",
        "# Command to install the petl package : pip install petl\n",
        "# Demo job to demonstrate an ETL workflow with the help of petl\n",
        "!pip install petl"
      ],
      "metadata": {
        "colab": {
          "base_uri": "https://localhost:8080/"
        },
        "id": "qXM30vyzM71m",
        "outputId": "88a12c61-d8e3-4eb7-b96e-b694a3fb7fc1"
      },
      "execution_count": 2,
      "outputs": [
        {
          "output_type": "stream",
          "name": "stdout",
          "text": [
            "Looking in indexes: https://pypi.org/simple, https://us-python.pkg.dev/colab-wheels/public/simple/\n",
            "Collecting petl\n",
            "  Downloading petl-1.7.11.tar.gz (408 kB)\n",
            "\u001b[K     |████████████████████████████████| 408 kB 4.1 MB/s \n",
            "\u001b[?25h  Installing build dependencies ... \u001b[?25l\u001b[?25hdone\n",
            "  Getting requirements to build wheel ... \u001b[?25l\u001b[?25hdone\n",
            "    Preparing wheel metadata ... \u001b[?25l\u001b[?25hdone\n",
            "Building wheels for collected packages: petl\n",
            "  Building wheel for petl (PEP 517) ... \u001b[?25l\u001b[?25hdone\n",
            "  Created wheel for petl: filename=petl-1.7.11-py3-none-any.whl size=226448 sha256=d2ed21e8acd74eb0af78623df25ac467ebc4f3a71dc78fb48a8508a9500314a3\n",
            "  Stored in directory: /root/.cache/pip/wheels/bc/0f/ae/4f496e580063d9929bd46b9f4d97e8884ece77dc80cd0ccb79\n",
            "Successfully built petl\n",
            "Installing collected packages: petl\n",
            "Successfully installed petl-1.7.11\n"
          ]
        }
      ]
    },
    {
      "cell_type": "markdown",
      "source": [
        "# Transforming Tables"
      ],
      "metadata": {
        "id": "759Zr5mtSb8b"
      }
    },
    {
      "cell_type": "code",
      "execution_count": 7,
      "metadata": {
        "id": "Qqf5HNcCAL5h"
      },
      "outputs": [],
      "source": [
        "import petl as etl\n",
        "\n",
        "table1 = [['foo', 'bar'],\n",
        "           ['a', 1],\n",
        "           ['b', 2],\n",
        "           ['c', 5],\n",
        "           ['d', 7],\n",
        "           ['e', 42],\n",
        "           ['f', 3],\n",
        "           ['h', 90],\n",
        "           ['k', 12],\n",
        "           ['l', 77],\n",
        "           ['q', 2]]"
      ]
    },
    {
      "cell_type": "markdown",
      "source": [
        "## Select the number of rows"
      ],
      "metadata": {
        "id": "slw2feIxjw14"
      }
    },
    {
      "cell_type": "code",
      "source": [
        "# Select first n rows\n",
        "table2 = etl.head(table1, 5) \n",
        "print(table2)"
      ],
      "metadata": {
        "colab": {
          "base_uri": "https://localhost:8080/"
        },
        "id": "_Vdah4AKjtdW",
        "outputId": "cf74a20a-4b63-4705-8b4f-0ad717a36ee5"
      },
      "execution_count": 11,
      "outputs": [
        {
          "output_type": "stream",
          "name": "stdout",
          "text": [
            "+-----+-----+\n",
            "| foo | bar |\n",
            "+=====+=====+\n",
            "| a   |   1 |\n",
            "+-----+-----+\n",
            "| b   |   2 |\n",
            "+-----+-----+\n",
            "| c   |   5 |\n",
            "+-----+-----+\n",
            "| d   |   7 |\n",
            "+-----+-----+\n",
            "| e   |  42 |\n",
            "+-----+-----+\n",
            "\n"
          ]
        }
      ]
    },
    {
      "cell_type": "code",
      "source": [
        "# Select last n rows\n",
        "table2 = etl.tail(table1, 5) \n",
        "print(table2)"
      ],
      "metadata": {
        "colab": {
          "base_uri": "https://localhost:8080/"
        },
        "id": "rVtlO-0Bjqjk",
        "outputId": "74079810-0263-4558-8c15-e9135ad47dcf"
      },
      "execution_count": 12,
      "outputs": [
        {
          "output_type": "stream",
          "name": "stdout",
          "text": [
            "+-----+-----+\n",
            "| foo | bar |\n",
            "+=====+=====+\n",
            "| f   |   3 |\n",
            "+-----+-----+\n",
            "| h   |  90 |\n",
            "+-----+-----+\n",
            "| k   |  12 |\n",
            "+-----+-----+\n",
            "| l   |  77 |\n",
            "+-----+-----+\n",
            "| q   |   2 |\n",
            "+-----+-----+\n",
            "\n"
          ]
        }
      ]
    },
    {
      "cell_type": "markdown",
      "source": [
        "## Slice the Rows"
      ],
      "metadata": {
        "id": "ZiV5JGog0eSa"
      }
    },
    {
      "cell_type": "code",
      "source": [
        "# Slice first 2 rows from table\n",
        "table3 = etl.rowslice(table1, 2) \n",
        "print(table3)"
      ],
      "metadata": {
        "colab": {
          "base_uri": "https://localhost:8080/"
        },
        "id": "y1vyH0NHK47E",
        "outputId": "0bf13dc5-271e-4c89-f13b-be44f564b26c"
      },
      "execution_count": 13,
      "outputs": [
        {
          "output_type": "stream",
          "name": "stdout",
          "text": [
            "+-----+-----+\n",
            "| foo | bar |\n",
            "+=====+=====+\n",
            "| a   |   1 |\n",
            "+-----+-----+\n",
            "| b   |   2 |\n",
            "+-----+-----+\n",
            "\n"
          ]
        }
      ]
    },
    {
      "cell_type": "code",
      "source": [
        "# Slice the rows between 1 and 4 records\n",
        "table3 = etl.rowslice(table1, 1, 4) \n",
        "print(table3)"
      ],
      "metadata": {
        "colab": {
          "base_uri": "https://localhost:8080/"
        },
        "id": "KTyymgufUfeR",
        "outputId": "726cd973-c0d9-4e84-9afd-2d84d2595032"
      },
      "execution_count": 14,
      "outputs": [
        {
          "output_type": "stream",
          "name": "stdout",
          "text": [
            "+-----+-----+\n",
            "| foo | bar |\n",
            "+=====+=====+\n",
            "| b   |   2 |\n",
            "+-----+-----+\n",
            "| c   |   5 |\n",
            "+-----+-----+\n",
            "| d   |   7 |\n",
            "+-----+-----+\n",
            "\n"
          ]
        }
      ]
    },
    {
      "cell_type": "code",
      "source": [
        "# Slice the every 2nd row from selected range\n",
        "table3 = etl.rowslice(table1, 0, 5, 2) \n",
        "print(table3)"
      ],
      "metadata": {
        "colab": {
          "base_uri": "https://localhost:8080/"
        },
        "id": "B1ovjOxIVBk7",
        "outputId": "71a5188e-ff69-4a91-95d1-5fc56a1dcb98"
      },
      "execution_count": 15,
      "outputs": [
        {
          "output_type": "stream",
          "name": "stdout",
          "text": [
            "+-----+-----+\n",
            "| foo | bar |\n",
            "+=====+=====+\n",
            "| a   |   1 |\n",
            "+-----+-----+\n",
            "| c   |   5 |\n",
            "+-----+-----+\n",
            "| e   |  42 |\n",
            "+-----+-----+\n",
            "\n"
          ]
        }
      ]
    },
    {
      "cell_type": "markdown",
      "source": [
        "## Slice the columns or Choose the columns or Re-Order the Columns"
      ],
      "metadata": {
        "id": "QxQcZVgM07Mq"
      }
    },
    {
      "cell_type": "code",
      "source": [
        "data = [['foo', 'bar', 'baz'],\n",
        "           ['A', 1, 2.7],\n",
        "           ['B', 2, 3.4],\n",
        "           ['B', 3, 7.8],\n",
        "           ['D', 42, 9.0],\n",
        "           ['E', 12]]\n",
        "\n",
        "table4 = etl.cut(data, 'foo' , 'baz')\n",
        "print(table4)"
      ],
      "metadata": {
        "colab": {
          "base_uri": "https://localhost:8080/"
        },
        "id": "dLCR9t3CVHII",
        "outputId": "5798f5ed-ef6e-422f-ce8d-520e22af7224"
      },
      "execution_count": 16,
      "outputs": [
        {
          "output_type": "stream",
          "name": "stdout",
          "text": [
            "+-----+------+\n",
            "| foo | baz  |\n",
            "+=====+======+\n",
            "| A   |  2.7 |\n",
            "+-----+------+\n",
            "| B   |  3.4 |\n",
            "+-----+------+\n",
            "| B   |  7.8 |\n",
            "+-----+------+\n",
            "| D   |  9.0 |\n",
            "+-----+------+\n",
            "| E   | None |\n",
            "+-----+------+\n",
            "\n"
          ]
        }
      ]
    },
    {
      "cell_type": "code",
      "source": [
        "# Slice the columns by index\n",
        "table4 = etl.cut(data, 0, 2)\n",
        "print(table4)"
      ],
      "metadata": {
        "colab": {
          "base_uri": "https://localhost:8080/"
        },
        "id": "P_gXv7IfAQrD",
        "outputId": "9c44634e-e1bf-4c7e-f688-f39f087c2b15"
      },
      "execution_count": 17,
      "outputs": [
        {
          "output_type": "stream",
          "name": "stdout",
          "text": [
            "+-----+------+\n",
            "| foo | baz  |\n",
            "+=====+======+\n",
            "| A   |  2.7 |\n",
            "+-----+------+\n",
            "| B   |  3.4 |\n",
            "+-----+------+\n",
            "| B   |  7.8 |\n",
            "+-----+------+\n",
            "| D   |  9.0 |\n",
            "+-----+------+\n",
            "| E   | None |\n",
            "+-----+------+\n",
            "\n"
          ]
        }
      ]
    },
    {
      "cell_type": "code",
      "source": [
        "# Slice the columns by names and indices\n",
        "table4 = etl.cut(data, 'bar', 0) \n",
        "print(table4)"
      ],
      "metadata": {
        "colab": {
          "base_uri": "https://localhost:8080/"
        },
        "id": "zHikygeLkkBa",
        "outputId": "615b4202-210b-485b-ae59-6f7e16f3a41a"
      },
      "execution_count": 18,
      "outputs": [
        {
          "output_type": "stream",
          "name": "stdout",
          "text": [
            "+-----+-----+\n",
            "| bar | foo |\n",
            "+=====+=====+\n",
            "|   1 | A   |\n",
            "+-----+-----+\n",
            "|   2 | B   |\n",
            "+-----+-----+\n",
            "|   3 | B   |\n",
            "+-----+-----+\n",
            "|  42 | D   |\n",
            "+-----+-----+\n",
            "|  12 | E   |\n",
            "+-----+-----+\n",
            "\n"
          ]
        }
      ]
    },
    {
      "cell_type": "code",
      "source": [
        "# Slice the columns based on range of fields\n",
        "table4 = etl.cut(data, *range(0,2)) \n",
        "print(table4)"
      ],
      "metadata": {
        "colab": {
          "base_uri": "https://localhost:8080/"
        },
        "id": "L2kb_0RGklT_",
        "outputId": "bcaea959-85f8-4163-dee3-c00cd4e406f2"
      },
      "execution_count": 19,
      "outputs": [
        {
          "output_type": "stream",
          "name": "stdout",
          "text": [
            "+-----+-----+\n",
            "| foo | bar |\n",
            "+=====+=====+\n",
            "| A   |   1 |\n",
            "+-----+-----+\n",
            "| B   |   2 |\n",
            "+-----+-----+\n",
            "| B   |   3 |\n",
            "+-----+-----+\n",
            "| D   |  42 |\n",
            "+-----+-----+\n",
            "| E   |  12 |\n",
            "+-----+-----+\n",
            "\n"
          ]
        }
      ]
    },
    {
      "cell_type": "markdown",
      "source": [
        "## Remove Columns"
      ],
      "metadata": {
        "id": "X2PL8n0uWQBi"
      }
    },
    {
      "cell_type": "code",
      "source": [
        "table4 = etl.cutout(data, 'bar')\n",
        "print(table4)"
      ],
      "metadata": {
        "colab": {
          "base_uri": "https://localhost:8080/"
        },
        "id": "OSpLxiwNAWDy",
        "outputId": "c1eb84dd-726b-48eb-f9f0-b4959c65a807"
      },
      "execution_count": 20,
      "outputs": [
        {
          "output_type": "stream",
          "name": "stdout",
          "text": [
            "+-----+------+\n",
            "| foo | baz  |\n",
            "+=====+======+\n",
            "| A   |  2.7 |\n",
            "+-----+------+\n",
            "| B   |  3.4 |\n",
            "+-----+------+\n",
            "| B   |  7.8 |\n",
            "+-----+------+\n",
            "| D   |  9.0 |\n",
            "+-----+------+\n",
            "| E   | None |\n",
            "+-----+------+\n",
            "\n"
          ]
        }
      ]
    },
    {
      "cell_type": "code",
      "source": [
        "# Move column to a new position\n",
        "table4 = etl.movefield(data, 'baz', 0)\n",
        "print(table4)"
      ],
      "metadata": {
        "colab": {
          "base_uri": "https://localhost:8080/"
        },
        "id": "R9jZTGKfWJ6g",
        "outputId": "5a02eed0-ff55-447f-8037-3deb35815963"
      },
      "execution_count": 21,
      "outputs": [
        {
          "output_type": "stream",
          "name": "stdout",
          "text": [
            "+------+-----+-----+\n",
            "| baz  | foo | bar |\n",
            "+======+=====+=====+\n",
            "|  2.7 | A   |   1 |\n",
            "+------+-----+-----+\n",
            "|  3.4 | B   |   2 |\n",
            "+------+-----+-----+\n",
            "|  7.8 | B   |   3 |\n",
            "+------+-----+-----+\n",
            "|  9.0 | D   |  42 |\n",
            "+------+-----+-----+\n",
            "| None | E   |  12 |\n",
            "+------+-----+-----+\n",
            "\n"
          ]
        }
      ]
    },
    {
      "cell_type": "markdown",
      "source": [
        "## Concatenate two tables into one"
      ],
      "metadata": {
        "id": "LLs8fXHd1qgl"
      }
    },
    {
      "cell_type": "code",
      "source": [
        "table1 = [['foo', 'bar'],\n",
        "           [1, 'A'],\n",
        "           [2, 'B']]\n",
        "table2 = [['bar', 'baz'],\n",
        "           ['C', True],\n",
        "           ['D', False]]\n",
        "\n",
        "table3 = etl.cat(table1, table2)\n",
        "print(table3)"
      ],
      "metadata": {
        "colab": {
          "base_uri": "https://localhost:8080/"
        },
        "id": "mIDG1Xh7WWKJ",
        "outputId": "d6de91a5-be41-404c-fa1b-60b36ccdd5df"
      },
      "execution_count": 22,
      "outputs": [
        {
          "output_type": "stream",
          "name": "stdout",
          "text": [
            "+------+-----+-------+\n",
            "| foo  | bar | baz   |\n",
            "+======+=====+=======+\n",
            "|    1 | A   | None  |\n",
            "+------+-----+-------+\n",
            "|    2 | B   | None  |\n",
            "+------+-----+-------+\n",
            "| None | C   | True  |\n",
            "+------+-----+-------+\n",
            "| None | D   | False |\n",
            "+------+-----+-------+\n",
            "\n"
          ]
        }
      ]
    },
    {
      "cell_type": "code",
      "source": [
        "table3 = etl.cat(table1, table2, header=['A','foo','B','bar', 'C'])\n",
        "print(table3)"
      ],
      "metadata": {
        "colab": {
          "base_uri": "https://localhost:8080/"
        },
        "id": "cXeEhCpKk-Zj",
        "outputId": "8acc9a81-576d-4cff-98e7-4fc151d2784a"
      },
      "execution_count": 23,
      "outputs": [
        {
          "output_type": "stream",
          "name": "stdout",
          "text": [
            "+------+------+------+-----+------+\n",
            "| A    | foo  | B    | bar | C    |\n",
            "+======+======+======+=====+======+\n",
            "| None |    1 | None | A   | None |\n",
            "+------+------+------+-----+------+\n",
            "| None |    2 | None | B   | None |\n",
            "+------+------+------+-----+------+\n",
            "| None | None | None | C   | None |\n",
            "+------+------+------+-----+------+\n",
            "| None | None | None | D   | None |\n",
            "+------+------+------+-----+------+\n",
            "\n"
          ]
        }
      ]
    },
    {
      "cell_type": "code",
      "source": [
        "# Concatenate tables without matching Headers\n",
        "table4 = etl.stack(table1, table2)\n",
        "print(table4)"
      ],
      "metadata": {
        "colab": {
          "base_uri": "https://localhost:8080/"
        },
        "id": "53KdQiDQk_sz",
        "outputId": "06956018-a4c3-4941-b48c-b610798cac28"
      },
      "execution_count": 24,
      "outputs": [
        {
          "output_type": "stream",
          "name": "stdout",
          "text": [
            "+-----+-------+\n",
            "| foo | bar   |\n",
            "+=====+=======+\n",
            "|   1 | A     |\n",
            "+-----+-------+\n",
            "|   2 | B     |\n",
            "+-----+-------+\n",
            "| C   | True  |\n",
            "+-----+-------+\n",
            "| D   | False |\n",
            "+-----+-------+\n",
            "\n"
          ]
        }
      ]
    },
    {
      "cell_type": "markdown",
      "source": [
        "## Skip Comments Rows"
      ],
      "metadata": {
        "id": "3Mpud_NSMgFr"
      }
    },
    {
      "cell_type": "code",
      "source": [
        "table1 = [['##aaa', 'bbb', 'ccc'],\n",
        "           ['##mmm',],\n",
        "           ['#foo', 'bar'],\n",
        "           ['##nnn', 1],\n",
        "           ['a', 1],\n",
        "           ['b', 2]]\n",
        "\n",
        "# Skip row where the first value is a string and starts with prefix\n",
        "table2 = etl.skipcomments(table1, '##')\n",
        "print(table2)"
      ],
      "metadata": {
        "colab": {
          "base_uri": "https://localhost:8080/"
        },
        "id": "l4M3lnAAAa1M",
        "outputId": "6bfdb382-5f8f-433d-8777-629e5d2e23fa"
      },
      "execution_count": 25,
      "outputs": [
        {
          "output_type": "stream",
          "name": "stdout",
          "text": [
            "+------+-----+\n",
            "| #foo | bar |\n",
            "+======+=====+\n",
            "| a    |   1 |\n",
            "+------+-----+\n",
            "| b    |   2 |\n",
            "+------+-----+\n",
            "\n"
          ]
        }
      ]
    },
    {
      "cell_type": "markdown",
      "source": [
        "## Add Field with a fixed or Calculated Value"
      ],
      "metadata": {
        "id": "cw2MKNE_lGcR"
      }
    },
    {
      "cell_type": "code",
      "source": [
        "table1 = [['foo', 'bar'],\n",
        "          ['M', 12],\n",
        "          ['F', 34],\n",
        "          ['-', 56]]"
      ],
      "metadata": {
        "id": "0JphVBde2IX_"
      },
      "execution_count": 26,
      "outputs": []
    },
    {
      "cell_type": "code",
      "source": [
        "# Add a Column with fixed value\n",
        "table2 = etl.addfield(table1, 'baz', 42)\n",
        "print(table2)"
      ],
      "metadata": {
        "colab": {
          "base_uri": "https://localhost:8080/"
        },
        "id": "Q6CXWTGf2RiW",
        "outputId": "7c76cce0-9077-4bad-df7e-34cc279b9c95"
      },
      "execution_count": 27,
      "outputs": [
        {
          "output_type": "stream",
          "name": "stdout",
          "text": [
            "+-----+-----+-----+\n",
            "| foo | bar | baz |\n",
            "+=====+=====+=====+\n",
            "| M   |  12 |  42 |\n",
            "+-----+-----+-----+\n",
            "| F   |  34 |  42 |\n",
            "+-----+-----+-----+\n",
            "| -   |  56 |  42 |\n",
            "+-----+-----+-----+\n",
            "\n"
          ]
        }
      ]
    },
    {
      "cell_type": "code",
      "source": [
        "# Add a column with calculating value\n",
        "table2 = etl.addfield(table1, 'baz', lambda rec: rec['bar'] * 2)\n",
        "print(table2)"
      ],
      "metadata": {
        "colab": {
          "base_uri": "https://localhost:8080/"
        },
        "id": "Qc-MXe06lZG8",
        "outputId": "d0f1bac9-2936-4c0f-bb9f-ae678f5d0ef3"
      },
      "execution_count": 28,
      "outputs": [
        {
          "output_type": "stream",
          "name": "stdout",
          "text": [
            "+-----+-----+-----+\n",
            "| foo | bar | baz |\n",
            "+=====+=====+=====+\n",
            "| M   |  12 |  24 |\n",
            "+-----+-----+-----+\n",
            "| F   |  34 |  68 |\n",
            "+-----+-----+-----+\n",
            "| -   |  56 | 112 |\n",
            "+-----+-----+-----+\n",
            "\n"
          ]
        }
      ]
    },
    {
      "cell_type": "markdown",
      "source": [
        "## Add a column of data to a table \n",
        "(Difference is in addfield it was either constant or a calculated field but in addcolumn it can have vary data values)"
      ],
      "metadata": {
        "id": "PjPi-DWElU_a"
      }
    },
    {
      "cell_type": "code",
      "source": [
        "table1 = [['foo', 'bar'],\n",
        "          ['A', 1],\n",
        "          ['B', 2]]\n",
        "col = [True, False]\n",
        "\n",
        "table2 = etl.addcolumn(table1, 'baz', col)\n",
        "print(table2)"
      ],
      "metadata": {
        "colab": {
          "base_uri": "https://localhost:8080/"
        },
        "id": "9JEwb4WA2Z4P",
        "outputId": "780d5aad-b7ed-498d-dd8a-bcc917ac6650"
      },
      "execution_count": 29,
      "outputs": [
        {
          "output_type": "stream",
          "name": "stdout",
          "text": [
            "+-----+-----+-------+\n",
            "| foo | bar | baz   |\n",
            "+=====+=====+=======+\n",
            "| A   |   1 | True  |\n",
            "+-----+-----+-------+\n",
            "| B   |   2 | False |\n",
            "+-----+-----+-------+\n",
            "\n"
          ]
        }
      ]
    },
    {
      "cell_type": "markdown",
      "source": [
        "## Imputations based on previous or next values\n",
        "Fill the data in the rows based on previous, current and next rows values"
      ],
      "metadata": {
        "id": "VH5JXxL-23rQ"
      }
    },
    {
      "cell_type": "code",
      "source": [
        "table1 = [['foo','bar'],\n",
        "          ['A', 1],\n",
        "          ['B', 4],\n",
        "          ['C', 5],\n",
        "          ['D', 9]]\n",
        "\n",
        "def upstream(prv, cur, nxt):\n",
        "    if prv is None:\n",
        "        return None\n",
        "    else:\n",
        "        return cur.bar - prv.bar\n",
        "\n",
        "def downstream(prv, cur, nxt):\n",
        "    if nxt is None:\n",
        "        return None\n",
        "    else:\n",
        "        return nxt.bar - cur.bar\n",
        "\n",
        "table2 = etl.addfieldusingcontext(table1, 'baz', upstream) # Subtract a value from previous field and the current field\n",
        "table3 = etl.addfieldusingcontext(table2, 'quux', downstream) # Subtract a value from next field and current field\n",
        "\n",
        "print(table2) # Query parameter is the function operating on the current, previous and next rows and returning the value"
      ],
      "metadata": {
        "colab": {
          "base_uri": "https://localhost:8080/"
        },
        "id": "UY9htePu2uBX",
        "outputId": "72ee3f84-9480-46fb-ad48-38c68bf909a8"
      },
      "execution_count": 30,
      "outputs": [
        {
          "output_type": "stream",
          "name": "stdout",
          "text": [
            "+-----+-----+------+\n",
            "| foo | bar | baz  |\n",
            "+=====+=====+======+\n",
            "| A   |   1 | None |\n",
            "+-----+-----+------+\n",
            "| B   |   4 |    3 |\n",
            "+-----+-----+------+\n",
            "| C   |   5 |    1 |\n",
            "+-----+-----+------+\n",
            "| D   |   9 |    4 |\n",
            "+-----+-----+------+\n",
            "\n"
          ]
        }
      ]
    },
    {
      "cell_type": "markdown",
      "source": [
        "## Join two or more tables by row order"
      ],
      "metadata": {
        "id": "JR4Sexag2_9P"
      }
    },
    {
      "cell_type": "code",
      "source": [
        "table1 = [['foo', 'bar'],\n",
        "          ['A', 9],\n",
        "          ['C', 2],\n",
        "          ['F', 1]]\n",
        "\n",
        "table2 = [['foo', 'baz'],\n",
        "           ['B', 3],\n",
        "           ['D', 10]]\n",
        "\n",
        "table3 = etl.annex(table1, table2)\n",
        "print(table3)"
      ],
      "metadata": {
        "colab": {
          "base_uri": "https://localhost:8080/"
        },
        "id": "pA9vGxsd26r-",
        "outputId": "7cfe0dcc-5301-48f7-f586-da4bfd273757"
      },
      "execution_count": 31,
      "outputs": [
        {
          "output_type": "stream",
          "name": "stdout",
          "text": [
            "+-----+-----+------+------+\n",
            "| foo | bar | foo  | baz  |\n",
            "+=====+=====+======+======+\n",
            "| A   |   9 | B    |    3 |\n",
            "+-----+-----+------+------+\n",
            "| C   |   2 | D    |   10 |\n",
            "+-----+-----+------+------+\n",
            "| F   |   1 | None | None |\n",
            "+-----+-----+------+------+\n",
            "\n"
          ]
        }
      ]
    },
    {
      "cell_type": "code",
      "source": [],
      "metadata": {
        "id": "bulee20EmQl2"
      },
      "execution_count": null,
      "outputs": []
    }
  ]
}